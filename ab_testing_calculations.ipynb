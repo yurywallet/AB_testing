{
 "cells": [
  {
   "cell_type": "markdown",
   "id": "890164ef",
   "metadata": {},
   "source": [
    "# PYTHON. Calculations for AB test analysis"
   ]
  },
  {
   "cell_type": "code",
   "execution_count": 1,
   "id": "1227753b",
   "metadata": {},
   "outputs": [],
   "source": [
    "import scipy.stats as st\n",
    "import math\n",
    "import numpy as np"
   ]
  },
  {
   "cell_type": "markdown",
   "id": "8d50f1c2",
   "metadata": {},
   "source": [
    "## Basic theoretical confidence interval calculation\n",
    "Assumptions: Normal distribution (functions from **scipy.stats** library)\n",
    "\n"
   ]
  },
  {
   "cell_type": "code",
   "execution_count": 2,
   "id": "8916979a",
   "metadata": {},
   "outputs": [],
   "source": [
    "def conf_interval(clicks, N, conf=0.95, n_tails=2, rnd=4):\n",
    "    # ppf(q, loc=0, scale=1) Percent point function (inverse of cdf — percentiles).\n",
    "    z=st.norm.ppf(1-(1-conf)/n_tails)\n",
    "\n",
    "    p_hat=clicks/N\n",
    "    # binomial distribution\n",
    "    standard_error= math.sqrt(p_hat*(1-p_hat)/N)\n",
    "\n",
    "    margin_of_error = standard_error * z\n",
    "\n",
    "    lower = p_hat - margin_of_error\n",
    "    upper = p_hat + margin_of_error\n",
    "\n",
    "    #st.norm.cdf(z)\n",
    "    print(f'P_hat:           {round(p_hat,4)}')\n",
    "    print(f'Standard error:  {round(standard_error,4)}')\n",
    "    print(f'Margin of error: {round(margin_of_error,4)}')\n",
    "    print(\"-\"*20)\n",
    "    print(f\"{round(conf*100,1)}% {n_tails}-tail confidence interval is [{round(lower,rnd)} ; {round(upper,4)}]\")\n",
    "\n"
   ]
  },
  {
   "cell_type": "code",
   "execution_count": 3,
   "id": "be582fe9",
   "metadata": {},
   "outputs": [
    {
     "name": "stdout",
     "output_type": "stream",
     "text": [
      "P_hat:           0.15\n",
      "Standard error:  0.008\n",
      "Margin of error: 0.0206\n",
      "--------------------\n",
      "99.0% 2-tail confidence interval is [0.1294 ; 0.1706]\n"
     ]
    }
   ],
   "source": [
    "N=2000\n",
    "clicks=300\n",
    "conf=0.99\n",
    "n_tails=2\n",
    "\n",
    "conf_interval(clicks, N, conf=conf, n_tails=n_tails)"
   ]
  },
  {
   "cell_type": "markdown",
   "id": "ce65da03",
   "metadata": {},
   "source": [
    "## Sample size\n",
    "How many observations (at least) need to be collected to have significant results?\n",
    "\n",
    "* [Even Miller calculator](https://www.evanmiller.org/ab-testing/sample-size.html)\n",
    "* calculation based on pooled standard error"
   ]
  },
  {
   "cell_type": "code",
   "execution_count": 4,
   "id": "96dc4e31",
   "metadata": {},
   "outputs": [],
   "source": [
    "#https://towardsdatascience.com/mathematical-intuition-behind-a-b-testing-with-python-9d024e5e7f37\n",
    "\n",
    "def calc_sample_size(alpha, beta, p, delta, method, n_tails=2):\n",
    "    \"\"\" Based on https://www.evanmiller.org/ab-testing/sample-size.html\n",
    "    Ref: https://stats.stackexchange.com/questions/357336/create-an-a-b-sample-size-calculator-using-evan-millers-post\n",
    "    Args:\n",
    "        alpha (float): How often are you willing to accept a Type I error (false positive)?\n",
    "        power (float): How often do you want to correctly detect a true positive (=1-beta)?\n",
    "        p (float): Base conversion rate\n",
    "        pct_mde (float): Minimum detectable effect, relative to base conversion rate.\n",
    "    \"\"\"\n",
    "    if method == 'evanmiller':\n",
    "        t_alpha2 = st.norm.ppf(1.0-alpha/n_tails)\n",
    "        t_beta = st.norm.ppf(1-beta)\n",
    "\n",
    "        sd1 = np.sqrt(2 * p * (1.0 - p))\n",
    "        sd2 = np.sqrt(p * (1.0 - p) + (p + delta) * (1.0 - p - delta))\n",
    "\n",
    "        n= round((t_alpha2 * sd1 + t_beta * sd2) * (t_alpha2 * sd1 + t_beta * sd2) / (delta**2))\n",
    "    elif method == 'pooled_se':\n",
    "        \"\"\"\n",
    "        References:\n",
    "            Code taken from Nguyen Ngo: https://towardsdatascience.com/the-math-behind-a-b-testing-with-example-code-part-1-of-2-7be752e1d06f\n",
    "            Stanford lecture on sample sizes     \n",
    "        \"\"\"\n",
    "        # standard normal distribution to determine z-values\n",
    "        standard_norm = st.norm(0, 1)\n",
    "\n",
    "        # find Z_beta from desired power\n",
    "        Z_beta = standard_norm.ppf(1-beta)\n",
    "\n",
    "        # find Z_alpha\n",
    "        Z_alpha = standard_norm.ppf(1-alpha/n_tails)\n",
    "\n",
    "        # average of probabilities from both groups\n",
    "        pooled_prob = (p + p+delta) / 2\n",
    "\n",
    "        n= round(2*(pooled_prob * (1 - pooled_prob) * (Z_beta + Z_alpha)**2\n",
    "                 / delta**2))\n",
    "    return n\n",
    "\n"
   ]
  },
  {
   "cell_type": "code",
   "execution_count": 5,
   "id": "17424f08",
   "metadata": {},
   "outputs": [
    {
     "name": "stdout",
     "output_type": "stream",
     "text": [
      "Sample size \n",
      "1) Evan Miller: 3623  \n",
      "2) Pooled_se:  3842 \n",
      "Average: 3732\n"
     ]
    }
   ],
   "source": [
    "alpha=0.05\n",
    "beta=0.2\n",
    "power=1-beta\n",
    "d_min=0.02 # delta\n",
    "p_hat=0.1\n",
    "pct_mde=p_hat-d_min/p_hat\n",
    "delta=d_min\n",
    "\n",
    "n_evanmiller=calc_sample_size(alpha, beta, p_hat, d_min, method='evanmiller')\n",
    "n_stanford=calc_sample_size(alpha, beta, p_hat, d_min, method='pooled_se')\n",
    "\n",
    "print (f\"Sample size \\n1) Evan Miller: {n_evanmiller}  \\n2) Pooled_se:  {n_stanford} \\nAverage: {round(np.mean([n_stanford,n_evanmiller]))}\")\n"
   ]
  },
  {
   "cell_type": "markdown",
   "id": "0f025cb2",
   "metadata": {},
   "source": [
    "## AB test experiment analysis\n",
    "\n",
    "Pooled Standard error theoretical confidence interval calculation and comparison to practical minimal uplift. \n",
    "Verdict on the further actions based on the results"
   ]
  },
  {
   "cell_type": "code",
   "execution_count": 6,
   "id": "c5f75b79",
   "metadata": {},
   "outputs": [],
   "source": [
    "#theoretical\n",
    "def ab_pooled_theor_sign(N_cont, action_cont, N_exp, action_exp, d_min, conf=0.95, n_tails=2):\n",
    "    print(f\"Control \\n N      {N_cont}\\n action {action_cont}\")\n",
    "    print(f\"Experiment \\n N      {N_exp}\\n action {action_exp}\")\n",
    "    print(\"-\"*20)\n",
    "    \n",
    "    p_hat_cont=action_cont/N_cont\n",
    "    print(f\"P control:    {round(p_hat_cont,4)}\")\n",
    "\n",
    "    p_hat_exp=action_exp/N_exp\n",
    "    print(f\"P experiment: {round(p_hat_exp,4)}\")\n",
    "\n",
    "    p_hat_pool=(action_cont+action_exp)/(N_cont+N_exp)\n",
    "    print(f\"P poopled:    {round(p_hat_pool,4)}\")\n",
    "\n",
    "    standard_error_pool=math.sqrt(p_hat_pool*(1-p_hat_pool)*((1/N_cont) + (1/N_exp)))\n",
    "\n",
    "    z=st.norm.ppf(1-(1-conf)/n_tails)\n",
    "    margin_of_error_pool = standard_error_pool * z\n",
    "\n",
    "    dif_hat=p_hat_exp-p_hat_cont\n",
    "\n",
    "    p_min=dif_hat-margin_of_error_pool\n",
    "    p_max=dif_hat+margin_of_error_pool\n",
    "    print(\"-\"*20)\n",
    "    print(f'Minimal practical significance {round(d_min,4)}')\n",
    "    print(f\"Confidence interval [{round(p_min,4)},{round(p_max,4)}]\")\n",
    "    \n",
    "    print(\"-\"*20)\n",
    "    #stat significance - interval doesn't contain zero\n",
    "    if p_min<0 and p_max>0:\n",
    "        print(\"Confidence interval contains zero. We cannot reject null hypotesis that there is no difference between groups\")\n",
    "    elif p_min>0:\n",
    "        print(\"There is a significant positive result\")\n",
    "    else:   \n",
    "        print(\"There is a significant negative result\")\n",
    "\n",
    "\n",
    "    #practical significance   - the interval is to the right from min uplift\n",
    "    if d_min<=p_min:\n",
    "        print(f\"With {conf*100}% confidence there is practical and significant effect greater than d_min ({d_min}). \\nVerdict: LAUNCH the change\")\n",
    "    elif p_min>=-d_min and p_max<=d_min:\n",
    "        print(\"There is no practical significance. \\nVerdict: NO LAUNCH\")\n",
    "    elif p_min<=-d_min and p_max>=d_min:\n",
    "        print (\"Overlap. Results do not provide clarity. \\nVerdict: Additional test may bring more solid results\")\n",
    "    elif p_min>=-d_min and p_max>=d_min:\n",
    "        print (\"Intersection on positive side. Results do not provide clarity. \\nVerdict: Additional test may bring more solid results\")   \n",
    "    else: \n",
    "        print(\"No Launch\")\n",
    "    print(\"-\"*20)"
   ]
  },
  {
   "cell_type": "code",
   "execution_count": 7,
   "id": "dbbc2b93",
   "metadata": {},
   "outputs": [
    {
     "name": "stdout",
     "output_type": "stream",
     "text": [
      "Control \n",
      " N      10072\n",
      " action 974\n",
      "Experiment \n",
      " N      9886\n",
      " action 1242\n",
      "--------------------\n",
      "P control:    0.0967\n",
      "P experiment: 0.1256\n",
      "P poopled:    0.111\n",
      "--------------------\n",
      "Minimal practical significance 0.02\n",
      "Confidence interval [0.0202,0.0376]\n",
      "--------------------\n",
      "There is a significant positive result\n",
      "With 95.0% confidence there is practical and significant effect greater than d_min (0.02). \n",
      "Verdict: LAUNCH the change\n",
      "--------------------\n"
     ]
    }
   ],
   "source": [
    "n_tails=2\n",
    "conf=0.95\n",
    "d_min=0.02\n",
    "#experiment --------------------------------------------------------------\n",
    "#control\n",
    "N_cont=10072 # pageviews\n",
    "action_cont=974 # clicks, views, etc\n",
    "\n",
    "#experiment (target)\n",
    "N_exp=9886 # pageviews\n",
    "action_exp=1242 #clicks, views, etc\n",
    "# calculations --------------------------------------------------------------\n",
    "\n",
    "ab_pooled_theor_sign(N_cont, action_cont, N_exp, action_exp, d_min)\n",
    "        "
   ]
  },
  {
   "cell_type": "code",
   "execution_count": null,
   "id": "df1780f9",
   "metadata": {},
   "outputs": [],
   "source": []
  },
  {
   "cell_type": "code",
   "execution_count": null,
   "id": "27975c96",
   "metadata": {},
   "outputs": [],
   "source": []
  }
 ],
 "metadata": {
  "kernelspec": {
   "display_name": "Python 3 (ipykernel)",
   "language": "python",
   "name": "python3"
  },
  "language_info": {
   "codemirror_mode": {
    "name": "ipython",
    "version": 3
   },
   "file_extension": ".py",
   "mimetype": "text/x-python",
   "name": "python",
   "nbconvert_exporter": "python",
   "pygments_lexer": "ipython3",
   "version": "3.9.12"
  }
 },
 "nbformat": 4,
 "nbformat_minor": 5
}
